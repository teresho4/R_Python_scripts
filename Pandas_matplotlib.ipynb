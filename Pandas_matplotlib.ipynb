{
 "cells": [
  {
   "cell_type": "code",
   "execution_count": 1,
   "metadata": {},
   "outputs": [],
   "source": [
    "import pandas as pd\n",
    "import matplotlib.pyplot as plt"
   ]
  },
  {
   "cell_type": "code",
   "execution_count": 2,
   "metadata": {},
   "outputs": [],
   "source": [
    "df = pd.read_csv(\"/home/marina/Загрузки/StateNames.csv\")                  "
   ]
  },
  {
   "cell_type": "markdown",
   "metadata": {},
   "source": [
    "# Task 1. Which name was the most popular in each state before and after 1990 year"
   ]
  },
  {
   "cell_type": "markdown",
   "metadata": {},
   "source": [
    "# Before 1990"
   ]
  },
  {
   "cell_type": "code",
   "execution_count": 3,
   "metadata": {},
   "outputs": [
    {
     "data": {
      "text/html": [
       "<div>\n",
       "<style scoped>\n",
       "    .dataframe tbody tr th:only-of-type {\n",
       "        vertical-align: middle;\n",
       "    }\n",
       "\n",
       "    .dataframe tbody tr th {\n",
       "        vertical-align: top;\n",
       "    }\n",
       "\n",
       "    .dataframe thead th {\n",
       "        text-align: right;\n",
       "    }\n",
       "</style>\n",
       "<table border=\"1\" class=\"dataframe\">\n",
       "  <thead>\n",
       "    <tr style=\"text-align: right;\">\n",
       "      <th></th>\n",
       "      <th>Name</th>\n",
       "      <th>State</th>\n",
       "      <th>Count</th>\n",
       "    </tr>\n",
       "  </thead>\n",
       "  <tbody>\n",
       "    <tr>\n",
       "      <th>117398</th>\n",
       "      <td>Michael</td>\n",
       "      <td>AK</td>\n",
       "      <td>6158</td>\n",
       "    </tr>\n",
       "    <tr>\n",
       "      <th>72476</th>\n",
       "      <td>James</td>\n",
       "      <td>AL</td>\n",
       "      <td>145941</td>\n",
       "    </tr>\n",
       "    <tr>\n",
       "      <th>72477</th>\n",
       "      <td>James</td>\n",
       "      <td>AR</td>\n",
       "      <td>79777</td>\n",
       "    </tr>\n",
       "    <tr>\n",
       "      <th>117401</th>\n",
       "      <td>Michael</td>\n",
       "      <td>AZ</td>\n",
       "      <td>30467</td>\n",
       "    </tr>\n",
       "    <tr>\n",
       "      <th>117402</th>\n",
       "      <td>Michael</td>\n",
       "      <td>CA</td>\n",
       "      <td>330286</td>\n",
       "    </tr>\n",
       "    <tr>\n",
       "      <th>136351</th>\n",
       "      <td>Robert</td>\n",
       "      <td>CO</td>\n",
       "      <td>43212</td>\n",
       "    </tr>\n",
       "    <tr>\n",
       "      <th>80260</th>\n",
       "      <td>John</td>\n",
       "      <td>CT</td>\n",
       "      <td>72322</td>\n",
       "    </tr>\n",
       "    <tr>\n",
       "      <th>80261</th>\n",
       "      <td>John</td>\n",
       "      <td>DC</td>\n",
       "      <td>31804</td>\n",
       "    </tr>\n",
       "    <tr>\n",
       "      <th>80262</th>\n",
       "      <td>John</td>\n",
       "      <td>DE</td>\n",
       "      <td>13308</td>\n",
       "    </tr>\n",
       "    <tr>\n",
       "      <th>72484</th>\n",
       "      <td>James</td>\n",
       "      <td>FL</td>\n",
       "      <td>114218</td>\n",
       "    </tr>\n",
       "    <tr>\n",
       "      <th>72485</th>\n",
       "      <td>James</td>\n",
       "      <td>GA</td>\n",
       "      <td>163743</td>\n",
       "    </tr>\n",
       "    <tr>\n",
       "      <th>117409</th>\n",
       "      <td>Michael</td>\n",
       "      <td>HI</td>\n",
       "      <td>11536</td>\n",
       "    </tr>\n",
       "    <tr>\n",
       "      <th>136358</th>\n",
       "      <td>Robert</td>\n",
       "      <td>IA</td>\n",
       "      <td>68993</td>\n",
       "    </tr>\n",
       "    <tr>\n",
       "      <th>136359</th>\n",
       "      <td>Robert</td>\n",
       "      <td>ID</td>\n",
       "      <td>15464</td>\n",
       "    </tr>\n",
       "    <tr>\n",
       "      <th>136360</th>\n",
       "      <td>Robert</td>\n",
       "      <td>IL</td>\n",
       "      <td>262776</td>\n",
       "    </tr>\n",
       "    <tr>\n",
       "      <th>136361</th>\n",
       "      <td>Robert</td>\n",
       "      <td>IN</td>\n",
       "      <td>121474</td>\n",
       "    </tr>\n",
       "    <tr>\n",
       "      <th>136362</th>\n",
       "      <td>Robert</td>\n",
       "      <td>KS</td>\n",
       "      <td>48763</td>\n",
       "    </tr>\n",
       "    <tr>\n",
       "      <th>72492</th>\n",
       "      <td>James</td>\n",
       "      <td>KY</td>\n",
       "      <td>132761</td>\n",
       "    </tr>\n",
       "    <tr>\n",
       "      <th>72493</th>\n",
       "      <td>James</td>\n",
       "      <td>LA</td>\n",
       "      <td>80235</td>\n",
       "    </tr>\n",
       "    <tr>\n",
       "      <th>80273</th>\n",
       "      <td>John</td>\n",
       "      <td>MA</td>\n",
       "      <td>182820</td>\n",
       "    </tr>\n",
       "    <tr>\n",
       "      <th>80274</th>\n",
       "      <td>John</td>\n",
       "      <td>MD</td>\n",
       "      <td>76858</td>\n",
       "    </tr>\n",
       "    <tr>\n",
       "      <th>136367</th>\n",
       "      <td>Robert</td>\n",
       "      <td>ME</td>\n",
       "      <td>25488</td>\n",
       "    </tr>\n",
       "    <tr>\n",
       "      <th>136368</th>\n",
       "      <td>Robert</td>\n",
       "      <td>MI</td>\n",
       "      <td>203492</td>\n",
       "    </tr>\n",
       "    <tr>\n",
       "      <th>136369</th>\n",
       "      <td>Robert</td>\n",
       "      <td>MN</td>\n",
       "      <td>78172</td>\n",
       "    </tr>\n",
       "    <tr>\n",
       "      <th>72499</th>\n",
       "      <td>James</td>\n",
       "      <td>MO</td>\n",
       "      <td>113925</td>\n",
       "    </tr>\n",
       "    <tr>\n",
       "      <th>72500</th>\n",
       "      <td>James</td>\n",
       "      <td>MS</td>\n",
       "      <td>106788</td>\n",
       "    </tr>\n",
       "    <tr>\n",
       "      <th>136372</th>\n",
       "      <td>Robert</td>\n",
       "      <td>MT</td>\n",
       "      <td>17723</td>\n",
       "    </tr>\n",
       "    <tr>\n",
       "      <th>72502</th>\n",
       "      <td>James</td>\n",
       "      <td>NC</td>\n",
       "      <td>190349</td>\n",
       "    </tr>\n",
       "    <tr>\n",
       "      <th>136374</th>\n",
       "      <td>Robert</td>\n",
       "      <td>ND</td>\n",
       "      <td>15784</td>\n",
       "    </tr>\n",
       "    <tr>\n",
       "      <th>136375</th>\n",
       "      <td>Robert</td>\n",
       "      <td>NE</td>\n",
       "      <td>38475</td>\n",
       "    </tr>\n",
       "    <tr>\n",
       "      <th>136376</th>\n",
       "      <td>Robert</td>\n",
       "      <td>NH</td>\n",
       "      <td>18100</td>\n",
       "    </tr>\n",
       "    <tr>\n",
       "      <th>80285</th>\n",
       "      <td>John</td>\n",
       "      <td>NJ</td>\n",
       "      <td>178215</td>\n",
       "    </tr>\n",
       "    <tr>\n",
       "      <th>113409</th>\n",
       "      <td>Mary</td>\n",
       "      <td>NM</td>\n",
       "      <td>23336</td>\n",
       "    </tr>\n",
       "    <tr>\n",
       "      <th>117431</th>\n",
       "      <td>Michael</td>\n",
       "      <td>NV</td>\n",
       "      <td>8370</td>\n",
       "    </tr>\n",
       "    <tr>\n",
       "      <th>80288</th>\n",
       "      <td>John</td>\n",
       "      <td>NY</td>\n",
       "      <td>459156</td>\n",
       "    </tr>\n",
       "    <tr>\n",
       "      <th>136381</th>\n",
       "      <td>Robert</td>\n",
       "      <td>OH</td>\n",
       "      <td>262551</td>\n",
       "    </tr>\n",
       "    <tr>\n",
       "      <th>72511</th>\n",
       "      <td>James</td>\n",
       "      <td>OK</td>\n",
       "      <td>68467</td>\n",
       "    </tr>\n",
       "    <tr>\n",
       "      <th>136383</th>\n",
       "      <td>Robert</td>\n",
       "      <td>OR</td>\n",
       "      <td>35485</td>\n",
       "    </tr>\n",
       "    <tr>\n",
       "      <th>80292</th>\n",
       "      <td>John</td>\n",
       "      <td>PA</td>\n",
       "      <td>395280</td>\n",
       "    </tr>\n",
       "    <tr>\n",
       "      <th>80293</th>\n",
       "      <td>John</td>\n",
       "      <td>RI</td>\n",
       "      <td>27486</td>\n",
       "    </tr>\n",
       "    <tr>\n",
       "      <th>72515</th>\n",
       "      <td>James</td>\n",
       "      <td>SC</td>\n",
       "      <td>117225</td>\n",
       "    </tr>\n",
       "    <tr>\n",
       "      <th>136387</th>\n",
       "      <td>Robert</td>\n",
       "      <td>SD</td>\n",
       "      <td>17370</td>\n",
       "    </tr>\n",
       "    <tr>\n",
       "      <th>72517</th>\n",
       "      <td>James</td>\n",
       "      <td>TN</td>\n",
       "      <td>156241</td>\n",
       "    </tr>\n",
       "    <tr>\n",
       "      <th>72518</th>\n",
       "      <td>James</td>\n",
       "      <td>TX</td>\n",
       "      <td>239637</td>\n",
       "    </tr>\n",
       "    <tr>\n",
       "      <th>39078</th>\n",
       "      <td>David</td>\n",
       "      <td>UT</td>\n",
       "      <td>23818</td>\n",
       "    </tr>\n",
       "    <tr>\n",
       "      <th>72520</th>\n",
       "      <td>James</td>\n",
       "      <td>VA</td>\n",
       "      <td>132509</td>\n",
       "    </tr>\n",
       "    <tr>\n",
       "      <th>136392</th>\n",
       "      <td>Robert</td>\n",
       "      <td>VT</td>\n",
       "      <td>11138</td>\n",
       "    </tr>\n",
       "    <tr>\n",
       "      <th>136393</th>\n",
       "      <td>Robert</td>\n",
       "      <td>WA</td>\n",
       "      <td>60188</td>\n",
       "    </tr>\n",
       "    <tr>\n",
       "      <th>136394</th>\n",
       "      <td>Robert</td>\n",
       "      <td>WI</td>\n",
       "      <td>100337</td>\n",
       "    </tr>\n",
       "    <tr>\n",
       "      <th>72524</th>\n",
       "      <td>James</td>\n",
       "      <td>WV</td>\n",
       "      <td>71954</td>\n",
       "    </tr>\n",
       "    <tr>\n",
       "      <th>136396</th>\n",
       "      <td>Robert</td>\n",
       "      <td>WY</td>\n",
       "      <td>8512</td>\n",
       "    </tr>\n",
       "  </tbody>\n",
       "</table>\n",
       "</div>"
      ],
      "text/plain": [
       "           Name State   Count\n",
       "117398  Michael    AK    6158\n",
       "72476     James    AL  145941\n",
       "72477     James    AR   79777\n",
       "117401  Michael    AZ   30467\n",
       "117402  Michael    CA  330286\n",
       "136351   Robert    CO   43212\n",
       "80260      John    CT   72322\n",
       "80261      John    DC   31804\n",
       "80262      John    DE   13308\n",
       "72484     James    FL  114218\n",
       "72485     James    GA  163743\n",
       "117409  Michael    HI   11536\n",
       "136358   Robert    IA   68993\n",
       "136359   Robert    ID   15464\n",
       "136360   Robert    IL  262776\n",
       "136361   Robert    IN  121474\n",
       "136362   Robert    KS   48763\n",
       "72492     James    KY  132761\n",
       "72493     James    LA   80235\n",
       "80273      John    MA  182820\n",
       "80274      John    MD   76858\n",
       "136367   Robert    ME   25488\n",
       "136368   Robert    MI  203492\n",
       "136369   Robert    MN   78172\n",
       "72499     James    MO  113925\n",
       "72500     James    MS  106788\n",
       "136372   Robert    MT   17723\n",
       "72502     James    NC  190349\n",
       "136374   Robert    ND   15784\n",
       "136375   Robert    NE   38475\n",
       "136376   Robert    NH   18100\n",
       "80285      John    NJ  178215\n",
       "113409     Mary    NM   23336\n",
       "117431  Michael    NV    8370\n",
       "80288      John    NY  459156\n",
       "136381   Robert    OH  262551\n",
       "72511     James    OK   68467\n",
       "136383   Robert    OR   35485\n",
       "80292      John    PA  395280\n",
       "80293      John    RI   27486\n",
       "72515     James    SC  117225\n",
       "136387   Robert    SD   17370\n",
       "72517     James    TN  156241\n",
       "72518     James    TX  239637\n",
       "39078     David    UT   23818\n",
       "72520     James    VA  132509\n",
       "136392   Robert    VT   11138\n",
       "136393   Robert    WA   60188\n",
       "136394   Robert    WI  100337\n",
       "72524     James    WV   71954\n",
       "136396   Robert    WY    8512"
      ]
     },
     "execution_count": 3,
     "metadata": {},
     "output_type": "execute_result"
    }
   ],
   "source": [
    "before = df[df.Year < 1990]\n",
    "before = before[['Name','State','Count']]\n",
    "before = before.groupby(['Name', 'State'], as_index = False).aggregate({'Count' : 'sum'})\n",
    "before.loc[before.groupby('State')['Count'].idxmax()]"
   ]
  },
  {
   "cell_type": "code",
   "execution_count": 4,
   "metadata": {},
   "outputs": [
    {
     "data": {
      "text/plain": [
       "<matplotlib.axes._subplots.AxesSubplot at 0x7f95ac9d91d0>"
      ]
     },
     "execution_count": 4,
     "metadata": {},
     "output_type": "execute_result"
    },
    {
     "data": {
      "image/png": "[encoded data removed]",
      "text/plain": [
       "<Figure size 1080x1080 with 1 Axes>"
      ]
     },
     "metadata": {
      "needs_background": "light"
     },
     "output_type": "display_data"
    }
   ],
   "source": [
    "before.loc[before.groupby('State')['Count'].idxmax()].plot(x = 'Name', kind ='bar', figsize = (15,15))"
   ]
  },
  {
   "cell_type": "markdown",
   "metadata": {},
   "source": [
    "# After 1990"
   ]
  },
  {
   "cell_type": "code",
   "execution_count": 5,
   "metadata": {},
   "outputs": [
    {
     "data": {
      "text/html": [
       "<div>\n",
       "<style scoped>\n",
       "    .dataframe tbody tr th:only-of-type {\n",
       "        vertical-align: middle;\n",
       "    }\n",
       "\n",
       "    .dataframe tbody tr th {\n",
       "        vertical-align: top;\n",
       "    }\n",
       "\n",
       "    .dataframe thead th {\n",
       "        text-align: right;\n",
       "    }\n",
       "</style>\n",
       "<table border=\"1\" class=\"dataframe\">\n",
       "  <thead>\n",
       "    <tr style=\"text-align: right;\">\n",
       "      <th></th>\n",
       "      <th>Name</th>\n",
       "      <th>State</th>\n",
       "      <th>Count</th>\n",
       "    </tr>\n",
       "  </thead>\n",
       "  <tbody>\n",
       "    <tr>\n",
       "      <th>147576</th>\n",
       "      <td>Michael</td>\n",
       "      <td>AK</td>\n",
       "      <td>1719</td>\n",
       "    </tr>\n",
       "    <tr>\n",
       "      <th>199662</th>\n",
       "      <td>William</td>\n",
       "      <td>AL</td>\n",
       "      <td>13931</td>\n",
       "    </tr>\n",
       "    <tr>\n",
       "      <th>86319</th>\n",
       "      <td>Jacob</td>\n",
       "      <td>AR</td>\n",
       "      <td>6258</td>\n",
       "    </tr>\n",
       "    <tr>\n",
       "      <th>147579</th>\n",
       "      <td>Michael</td>\n",
       "      <td>AZ</td>\n",
       "      <td>13433</td>\n",
       "    </tr>\n",
       "    <tr>\n",
       "      <th>51080</th>\n",
       "      <td>Daniel</td>\n",
       "      <td>CA</td>\n",
       "      <td>97807</td>\n",
       "    </tr>\n",
       "    <tr>\n",
       "      <th>86322</th>\n",
       "      <td>Jacob</td>\n",
       "      <td>CO</td>\n",
       "      <td>9986</td>\n",
       "    </tr>\n",
       "    <tr>\n",
       "      <th>147582</th>\n",
       "      <td>Michael</td>\n",
       "      <td>CT</td>\n",
       "      <td>11829</td>\n",
       "    </tr>\n",
       "    <tr>\n",
       "      <th>147583</th>\n",
       "      <td>Michael</td>\n",
       "      <td>DC</td>\n",
       "      <td>2706</td>\n",
       "    </tr>\n",
       "    <tr>\n",
       "      <th>147584</th>\n",
       "      <td>Michael</td>\n",
       "      <td>DE</td>\n",
       "      <td>2587</td>\n",
       "    </tr>\n",
       "    <tr>\n",
       "      <th>147585</th>\n",
       "      <td>Michael</td>\n",
       "      <td>FL</td>\n",
       "      <td>41742</td>\n",
       "    </tr>\n",
       "    <tr>\n",
       "      <th>199671</th>\n",
       "      <td>William</td>\n",
       "      <td>GA</td>\n",
       "      <td>24061</td>\n",
       "    </tr>\n",
       "    <tr>\n",
       "      <th>101996</th>\n",
       "      <td>Joshua</td>\n",
       "      <td>HI</td>\n",
       "      <td>2615</td>\n",
       "    </tr>\n",
       "    <tr>\n",
       "      <th>86329</th>\n",
       "      <td>Jacob</td>\n",
       "      <td>IA</td>\n",
       "      <td>8477</td>\n",
       "    </tr>\n",
       "    <tr>\n",
       "      <th>86330</th>\n",
       "      <td>Jacob</td>\n",
       "      <td>ID</td>\n",
       "      <td>3465</td>\n",
       "    </tr>\n",
       "    <tr>\n",
       "      <th>147590</th>\n",
       "      <td>Michael</td>\n",
       "      <td>IL</td>\n",
       "      <td>36728</td>\n",
       "    </tr>\n",
       "    <tr>\n",
       "      <th>86332</th>\n",
       "      <td>Jacob</td>\n",
       "      <td>IN</td>\n",
       "      <td>18255</td>\n",
       "    </tr>\n",
       "    <tr>\n",
       "      <th>86333</th>\n",
       "      <td>Jacob</td>\n",
       "      <td>KS</td>\n",
       "      <td>7106</td>\n",
       "    </tr>\n",
       "    <tr>\n",
       "      <th>86334</th>\n",
       "      <td>Jacob</td>\n",
       "      <td>KY</td>\n",
       "      <td>12870</td>\n",
       "    </tr>\n",
       "    <tr>\n",
       "      <th>102003</th>\n",
       "      <td>Joshua</td>\n",
       "      <td>LA</td>\n",
       "      <td>9805</td>\n",
       "    </tr>\n",
       "    <tr>\n",
       "      <th>147595</th>\n",
       "      <td>Michael</td>\n",
       "      <td>MA</td>\n",
       "      <td>21691</td>\n",
       "    </tr>\n",
       "    <tr>\n",
       "      <th>147596</th>\n",
       "      <td>Michael</td>\n",
       "      <td>MD</td>\n",
       "      <td>14689</td>\n",
       "    </tr>\n",
       "    <tr>\n",
       "      <th>86338</th>\n",
       "      <td>Jacob</td>\n",
       "      <td>ME</td>\n",
       "      <td>3154</td>\n",
       "    </tr>\n",
       "    <tr>\n",
       "      <th>86339</th>\n",
       "      <td>Jacob</td>\n",
       "      <td>MI</td>\n",
       "      <td>28047</td>\n",
       "    </tr>\n",
       "    <tr>\n",
       "      <th>86340</th>\n",
       "      <td>Jacob</td>\n",
       "      <td>MN</td>\n",
       "      <td>13443</td>\n",
       "    </tr>\n",
       "    <tr>\n",
       "      <th>86341</th>\n",
       "      <td>Jacob</td>\n",
       "      <td>MO</td>\n",
       "      <td>16296</td>\n",
       "    </tr>\n",
       "    <tr>\n",
       "      <th>199686</th>\n",
       "      <td>William</td>\n",
       "      <td>MS</td>\n",
       "      <td>7859</td>\n",
       "    </tr>\n",
       "    <tr>\n",
       "      <th>86343</th>\n",
       "      <td>Jacob</td>\n",
       "      <td>MT</td>\n",
       "      <td>1902</td>\n",
       "    </tr>\n",
       "    <tr>\n",
       "      <th>199688</th>\n",
       "      <td>William</td>\n",
       "      <td>NC</td>\n",
       "      <td>22241</td>\n",
       "    </tr>\n",
       "    <tr>\n",
       "      <th>86345</th>\n",
       "      <td>Jacob</td>\n",
       "      <td>ND</td>\n",
       "      <td>1954</td>\n",
       "    </tr>\n",
       "    <tr>\n",
       "      <th>86346</th>\n",
       "      <td>Jacob</td>\n",
       "      <td>NE</td>\n",
       "      <td>5269</td>\n",
       "    </tr>\n",
       "    <tr>\n",
       "      <th>86347</th>\n",
       "      <td>Jacob</td>\n",
       "      <td>NH</td>\n",
       "      <td>3241</td>\n",
       "    </tr>\n",
       "    <tr>\n",
       "      <th>147607</th>\n",
       "      <td>Michael</td>\n",
       "      <td>NJ</td>\n",
       "      <td>33096</td>\n",
       "    </tr>\n",
       "    <tr>\n",
       "      <th>102017</th>\n",
       "      <td>Joshua</td>\n",
       "      <td>NM</td>\n",
       "      <td>4394</td>\n",
       "    </tr>\n",
       "    <tr>\n",
       "      <th>16810</th>\n",
       "      <td>Anthony</td>\n",
       "      <td>NV</td>\n",
       "      <td>4959</td>\n",
       "    </tr>\n",
       "    <tr>\n",
       "      <th>147610</th>\n",
       "      <td>Michael</td>\n",
       "      <td>NY</td>\n",
       "      <td>66648</td>\n",
       "    </tr>\n",
       "    <tr>\n",
       "      <th>86352</th>\n",
       "      <td>Jacob</td>\n",
       "      <td>OH</td>\n",
       "      <td>32716</td>\n",
       "    </tr>\n",
       "    <tr>\n",
       "      <th>86353</th>\n",
       "      <td>Jacob</td>\n",
       "      <td>OK</td>\n",
       "      <td>8582</td>\n",
       "    </tr>\n",
       "    <tr>\n",
       "      <th>86354</th>\n",
       "      <td>Jacob</td>\n",
       "      <td>OR</td>\n",
       "      <td>8103</td>\n",
       "    </tr>\n",
       "    <tr>\n",
       "      <th>147614</th>\n",
       "      <td>Michael</td>\n",
       "      <td>PA</td>\n",
       "      <td>35772</td>\n",
       "    </tr>\n",
       "    <tr>\n",
       "      <th>147615</th>\n",
       "      <td>Michael</td>\n",
       "      <td>RI</td>\n",
       "      <td>3478</td>\n",
       "    </tr>\n",
       "    <tr>\n",
       "      <th>199701</th>\n",
       "      <td>William</td>\n",
       "      <td>SC</td>\n",
       "      <td>11461</td>\n",
       "    </tr>\n",
       "    <tr>\n",
       "      <th>86358</th>\n",
       "      <td>Jacob</td>\n",
       "      <td>SD</td>\n",
       "      <td>2065</td>\n",
       "    </tr>\n",
       "    <tr>\n",
       "      <th>199703</th>\n",
       "      <td>William</td>\n",
       "      <td>TN</td>\n",
       "      <td>17870</td>\n",
       "    </tr>\n",
       "    <tr>\n",
       "      <th>101585</th>\n",
       "      <td>Jose</td>\n",
       "      <td>TX</td>\n",
       "      <td>61073</td>\n",
       "    </tr>\n",
       "    <tr>\n",
       "      <th>86361</th>\n",
       "      <td>Jacob</td>\n",
       "      <td>UT</td>\n",
       "      <td>8076</td>\n",
       "    </tr>\n",
       "    <tr>\n",
       "      <th>147621</th>\n",
       "      <td>Michael</td>\n",
       "      <td>VA</td>\n",
       "      <td>18173</td>\n",
       "    </tr>\n",
       "    <tr>\n",
       "      <th>86363</th>\n",
       "      <td>Jacob</td>\n",
       "      <td>VT</td>\n",
       "      <td>1384</td>\n",
       "    </tr>\n",
       "    <tr>\n",
       "      <th>86364</th>\n",
       "      <td>Jacob</td>\n",
       "      <td>WA</td>\n",
       "      <td>13740</td>\n",
       "    </tr>\n",
       "    <tr>\n",
       "      <th>86365</th>\n",
       "      <td>Jacob</td>\n",
       "      <td>WI</td>\n",
       "      <td>14544</td>\n",
       "    </tr>\n",
       "    <tr>\n",
       "      <th>86366</th>\n",
       "      <td>Jacob</td>\n",
       "      <td>WV</td>\n",
       "      <td>5227</td>\n",
       "    </tr>\n",
       "    <tr>\n",
       "      <th>86367</th>\n",
       "      <td>Jacob</td>\n",
       "      <td>WY</td>\n",
       "      <td>978</td>\n",
       "    </tr>\n",
       "  </tbody>\n",
       "</table>\n",
       "</div>"
      ],
      "text/plain": [
       "           Name State  Count\n",
       "147576  Michael    AK   1719\n",
       "199662  William    AL  13931\n",
       "86319     Jacob    AR   6258\n",
       "147579  Michael    AZ  13433\n",
       "51080    Daniel    CA  97807\n",
       "86322     Jacob    CO   9986\n",
       "147582  Michael    CT  11829\n",
       "147583  Michael    DC   2706\n",
       "147584  Michael    DE   2587\n",
       "147585  Michael    FL  41742\n",
       "199671  William    GA  24061\n",
       "101996   Joshua    HI   2615\n",
       "86329     Jacob    IA   8477\n",
       "86330     Jacob    ID   3465\n",
       "147590  Michael    IL  36728\n",
       "86332     Jacob    IN  18255\n",
       "86333     Jacob    KS   7106\n",
       "86334     Jacob    KY  12870\n",
       "102003   Joshua    LA   9805\n",
       "147595  Michael    MA  21691\n",
       "147596  Michael    MD  14689\n",
       "86338     Jacob    ME   3154\n",
       "86339     Jacob    MI  28047\n",
       "86340     Jacob    MN  13443\n",
       "86341     Jacob    MO  16296\n",
       "199686  William    MS   7859\n",
       "86343     Jacob    MT   1902\n",
       "199688  William    NC  22241\n",
       "86345     Jacob    ND   1954\n",
       "86346     Jacob    NE   5269\n",
       "86347     Jacob    NH   3241\n",
       "147607  Michael    NJ  33096\n",
       "102017   Joshua    NM   4394\n",
       "16810   Anthony    NV   4959\n",
       "147610  Michael    NY  66648\n",
       "86352     Jacob    OH  32716\n",
       "86353     Jacob    OK   8582\n",
       "86354     Jacob    OR   8103\n",
       "147614  Michael    PA  35772\n",
       "147615  Michael    RI   3478\n",
       "199701  William    SC  11461\n",
       "86358     Jacob    SD   2065\n",
       "199703  William    TN  17870\n",
       "101585     Jose    TX  61073\n",
       "86361     Jacob    UT   8076\n",
       "147621  Michael    VA  18173\n",
       "86363     Jacob    VT   1384\n",
       "86364     Jacob    WA  13740\n",
       "86365     Jacob    WI  14544\n",
       "86366     Jacob    WV   5227\n",
       "86367     Jacob    WY    978"
      ]
     },
     "execution_count": 5,
     "metadata": {},
     "output_type": "execute_result"
    }
   ],
   "source": [
    "after = df[df.Year > 1990]\n",
    "after = after[['Name','State','Count']]\n",
    "after = after.groupby(['Name', 'State'], as_index = False).aggregate({'Count' : 'sum'})\n",
    "after.loc[after.groupby('State')['Count'].idxmax()]"
   ]
  },
  {
   "cell_type": "code",
   "execution_count": 6,
   "metadata": {},
   "outputs": [
    {
     "data": {
      "text/plain": [
       "<matplotlib.axes._subplots.AxesSubplot at 0x7f95ac5e97d0>"
      ]
     },
     "execution_count": 6,
     "metadata": {},
     "output_type": "execute_result"
    },
    {
     "data": {
      "image/png": "[encoded data removed]",
      "text/plain": [
       "<Figure size 1080x1080 with 1 Axes>"
      ]
     },
     "metadata": {
      "needs_background": "light"
     },
     "output_type": "display_data"
    }
   ],
   "source": [
    "after.loc[after.groupby('State')['Count'].idxmax()].plot(x = 'Name', kind ='bar', figsize = (15,15))"
   ]
  },
  {
   "cell_type": "markdown",
   "metadata": {},
   "source": [
    "# Task 2. Which are top 3 of the most popular names in 1990-2000 years separately among boys and girls in three states"
   ]
  },
  {
   "cell_type": "code",
   "execution_count": 7,
   "metadata": {},
   "outputs": [],
   "source": [
    "first_state = df[df.State == 'TN'] # Tennessee State\n",
    "second_state = df[df.State == 'NY'] # New York State\n",
    "third_state = df[df.State == 'AR']# Arkansas State"
   ]
  },
  {
   "cell_type": "markdown",
   "metadata": {},
   "source": [
    "# Tennessee State"
   ]
  },
  {
   "cell_type": "code",
   "execution_count": 8,
   "metadata": {},
   "outputs": [
    {
     "data": {
      "text/html": [
       "<div>\n",
       "<style scoped>\n",
       "    .dataframe tbody tr th:only-of-type {\n",
       "        vertical-align: middle;\n",
       "    }\n",
       "\n",
       "    .dataframe tbody tr th {\n",
       "        vertical-align: top;\n",
       "    }\n",
       "\n",
       "    .dataframe thead th {\n",
       "        text-align: right;\n",
       "    }\n",
       "</style>\n",
       "<table border=\"1\" class=\"dataframe\">\n",
       "  <thead>\n",
       "    <tr style=\"text-align: right;\">\n",
       "      <th></th>\n",
       "      <th></th>\n",
       "      <th>Count</th>\n",
       "    </tr>\n",
       "    <tr>\n",
       "      <th>Name</th>\n",
       "      <th>Gender</th>\n",
       "      <th></th>\n",
       "    </tr>\n",
       "  </thead>\n",
       "  <tbody>\n",
       "    <tr>\n",
       "      <th>James</th>\n",
       "      <th>M</th>\n",
       "      <td>170836</td>\n",
       "    </tr>\n",
       "    <tr>\n",
       "      <th>William</th>\n",
       "      <th>M</th>\n",
       "      <td>116163</td>\n",
       "    </tr>\n",
       "    <tr>\n",
       "      <th>John</th>\n",
       "      <th>M</th>\n",
       "      <td>94525</td>\n",
       "    </tr>\n",
       "    <tr>\n",
       "      <th>Mary</th>\n",
       "      <th>F</th>\n",
       "      <td>105498</td>\n",
       "    </tr>\n",
       "    <tr>\n",
       "      <th>Betty</th>\n",
       "      <th>F</th>\n",
       "      <td>36301</td>\n",
       "    </tr>\n",
       "    <tr>\n",
       "      <th>Linda</th>\n",
       "      <th>F</th>\n",
       "      <td>36287</td>\n",
       "    </tr>\n",
       "  </tbody>\n",
       "</table>\n",
       "</div>"
      ],
      "text/plain": [
       "                 Count\n",
       "Name    Gender        \n",
       "James   M       170836\n",
       "William M       116163\n",
       "John    M        94525\n",
       "Mary    F       105498\n",
       "Betty   F        36301\n",
       "Linda   F        36287"
      ]
     },
     "execution_count": 8,
     "metadata": {},
     "output_type": "execute_result"
    }
   ],
   "source": [
    "first_state = first_state[['Name', 'Count','Gender']]\n",
    "first_state_girls = first_state[first_state.Gender == 'F']\n",
    "first_state_girls = first_state_girls.groupby(['Name','Gender']).aggregate({'Count' : 'sum'})\n",
    "first_state_girls = first_state_girls.sort_values('Count', ascending = False)[:3]\n",
    "first_state_boys = first_state[first_state.Gender == 'M']\n",
    "first_state_boys = first_state_boys.groupby(['Name','Gender']).aggregate({'Count' : 'sum'})\n",
    "first_state_boys = first_state_boys.sort_values('Count', ascending = False)[:3]\n",
    "first_state_popular = pd.concat([first_state_boys, first_state_girls])\n",
    "first_state_popular"
   ]
  },
  {
   "cell_type": "code",
   "execution_count": 15,
   "metadata": {
    "scrolled": false
   },
   "outputs": [
    {
     "data": {
      "text/plain": [
       "Gender\n",
       "F    AxesSubplot(0.125,0.125;0.775x0.755)\n",
       "M    AxesSubplot(0.125,0.125;0.775x0.755)\n",
       "dtype: object"
      ]
     },
     "execution_count": 15,
     "metadata": {},
     "output_type": "execute_result"
    },
    {
     "data": {
      "image/png": "[encoded data removed]",
      "text/plain": [
       "<Figure size 432x288 with 1 Axes>"
      ]
     },
     "metadata": {
      "needs_background": "light"
     },
     "output_type": "display_data"
    },
    {
     "data": {
      "image/png": "[encoded data removed]",
      "text/plain": [
       "<Figure size 432x288 with 1 Axes>"
      ]
     },
     "metadata": {
      "needs_background": "light"
     },
     "output_type": "display_data"
    }
   ],
   "source": [
    "first_state_popular.groupby('Gender').plot(kind ='bar')"
   ]
  },
  {
   "cell_type": "markdown",
   "metadata": {},
   "source": [
    "# New York State"
   ]
  },
  {
   "cell_type": "code",
   "execution_count": 10,
   "metadata": {},
   "outputs": [
    {
     "data": {
      "text/html": [
       "<div>\n",
       "<style scoped>\n",
       "    .dataframe tbody tr th:only-of-type {\n",
       "        vertical-align: middle;\n",
       "    }\n",
       "\n",
       "    .dataframe tbody tr th {\n",
       "        vertical-align: top;\n",
       "    }\n",
       "\n",
       "    .dataframe thead th {\n",
       "        text-align: right;\n",
       "    }\n",
       "</style>\n",
       "<table border=\"1\" class=\"dataframe\">\n",
       "  <thead>\n",
       "    <tr style=\"text-align: right;\">\n",
       "      <th></th>\n",
       "      <th></th>\n",
       "      <th>Count</th>\n",
       "    </tr>\n",
       "    <tr>\n",
       "      <th>Name</th>\n",
       "      <th>Gender</th>\n",
       "      <th></th>\n",
       "    </tr>\n",
       "  </thead>\n",
       "  <tbody>\n",
       "    <tr>\n",
       "      <th>John</th>\n",
       "      <th>M</th>\n",
       "      <td>493290</td>\n",
       "    </tr>\n",
       "    <tr>\n",
       "      <th>Robert</th>\n",
       "      <th>M</th>\n",
       "      <td>438048</td>\n",
       "    </tr>\n",
       "    <tr>\n",
       "      <th>Michael</th>\n",
       "      <th>M</th>\n",
       "      <td>431996</td>\n",
       "    </tr>\n",
       "    <tr>\n",
       "      <th>Mary</th>\n",
       "      <th>F</th>\n",
       "      <td>276587</td>\n",
       "    </tr>\n",
       "    <tr>\n",
       "      <th>Patricia</th>\n",
       "      <th>F</th>\n",
       "      <td>163382</td>\n",
       "    </tr>\n",
       "    <tr>\n",
       "      <th>Barbara</th>\n",
       "      <th>F</th>\n",
       "      <td>147021</td>\n",
       "    </tr>\n",
       "  </tbody>\n",
       "</table>\n",
       "</div>"
      ],
      "text/plain": [
       "                  Count\n",
       "Name     Gender        \n",
       "John     M       493290\n",
       "Robert   M       438048\n",
       "Michael  M       431996\n",
       "Mary     F       276587\n",
       "Patricia F       163382\n",
       "Barbara  F       147021"
      ]
     },
     "execution_count": 10,
     "metadata": {},
     "output_type": "execute_result"
    }
   ],
   "source": [
    "second_state = second_state[['Name', 'Count','Gender']]\n",
    "second_state_girls = second_state[second_state.Gender == 'F']\n",
    "second_state_girls = second_state_girls.groupby(['Name','Gender']).aggregate({'Count' : 'sum'})\n",
    "second_state_girls = second_state_girls.sort_values('Count', ascending = False)[:3]\n",
    "second_state_boys = second_state[second_state.Gender == 'M']\n",
    "second_state_boys = second_state_boys.groupby(['Name','Gender']).aggregate({'Count' : 'sum'})\n",
    "second_state_boys = second_state_boys.sort_values('Count', ascending = False)[:3]\n",
    "second_state_popular = pd.concat([second_state_boys, second_state_girls])\n",
    "second_state_popular"
   ]
  },
  {
   "cell_type": "code",
   "execution_count": 14,
   "metadata": {
    "scrolled": false
   },
   "outputs": [
    {
     "data": {
      "text/plain": [
       "Gender\n",
       "F    AxesSubplot(0.125,0.125;0.775x0.755)\n",
       "M    AxesSubplot(0.125,0.125;0.775x0.755)\n",
       "dtype: object"
      ]
     },
     "execution_count": 14,
     "metadata": {},
     "output_type": "execute_result"
    },
    {
     "data": {
      "image/png": "[encoded data removed]",
      "text/plain": [
       "<Figure size 432x288 with 1 Axes>"
      ]
     },
     "metadata": {
      "needs_background": "light"
     },
     "output_type": "display_data"
    },
    {
     "data": {
      "image/png": "[encoded data removed]",
      "text/plain": [
       "<Figure size 432x288 with 1 Axes>"
      ]
     },
     "metadata": {
      "needs_background": "light"
     },
     "output_type": "display_data"
    }
   ],
   "source": [
    "second_state_popular.groupby('Gender').plot(kind ='bar')"
   ]
  },
  {
   "cell_type": "markdown",
   "metadata": {},
   "source": [
    "# Arkansas State"
   ]
  },
  {
   "cell_type": "code",
   "execution_count": 12,
   "metadata": {},
   "outputs": [
    {
     "data": {
      "text/html": [
       "<div>\n",
       "<style scoped>\n",
       "    .dataframe tbody tr th:only-of-type {\n",
       "        vertical-align: middle;\n",
       "    }\n",
       "\n",
       "    .dataframe tbody tr th {\n",
       "        vertical-align: top;\n",
       "    }\n",
       "\n",
       "    .dataframe thead th {\n",
       "        text-align: right;\n",
       "    }\n",
       "</style>\n",
       "<table border=\"1\" class=\"dataframe\">\n",
       "  <thead>\n",
       "    <tr style=\"text-align: right;\">\n",
       "      <th></th>\n",
       "      <th></th>\n",
       "      <th>Count</th>\n",
       "    </tr>\n",
       "    <tr>\n",
       "      <th>Name</th>\n",
       "      <th>Gender</th>\n",
       "      <th></th>\n",
       "    </tr>\n",
       "  </thead>\n",
       "  <tbody>\n",
       "    <tr>\n",
       "      <th>James</th>\n",
       "      <th>M</th>\n",
       "      <td>84767</td>\n",
       "    </tr>\n",
       "    <tr>\n",
       "      <th>John</th>\n",
       "      <th>M</th>\n",
       "      <td>50763</td>\n",
       "    </tr>\n",
       "    <tr>\n",
       "      <th>William</th>\n",
       "      <th>M</th>\n",
       "      <td>48213</td>\n",
       "    </tr>\n",
       "    <tr>\n",
       "      <th>Mary</th>\n",
       "      <th>F</th>\n",
       "      <td>58520</td>\n",
       "    </tr>\n",
       "    <tr>\n",
       "      <th>Betty</th>\n",
       "      <th>F</th>\n",
       "      <td>23416</td>\n",
       "    </tr>\n",
       "    <tr>\n",
       "      <th>Linda</th>\n",
       "      <th>F</th>\n",
       "      <td>20335</td>\n",
       "    </tr>\n",
       "  </tbody>\n",
       "</table>\n",
       "</div>"
      ],
      "text/plain": [
       "                Count\n",
       "Name    Gender       \n",
       "James   M       84767\n",
       "John    M       50763\n",
       "William M       48213\n",
       "Mary    F       58520\n",
       "Betty   F       23416\n",
       "Linda   F       20335"
      ]
     },
     "execution_count": 12,
     "metadata": {},
     "output_type": "execute_result"
    }
   ],
   "source": [
    "third_state = third_state[['Name', 'Count','Gender']]\n",
    "third_state_girls = third_state[third_state.Gender == 'F']\n",
    "third_state_girls = third_state_girls.groupby(['Name','Gender']).aggregate({'Count' : 'sum'})\n",
    "third_state_girls = third_state_girls.sort_values('Count', ascending = False)[:3]\n",
    "third_state_boys = third_state[third_state.Gender == 'M']\n",
    "third_state_boys = third_state_boys.groupby(['Name','Gender']).aggregate({'Count' : 'sum'})\n",
    "third_state_boys = third_state_boys.sort_values('Count', ascending = False)[:3]\n",
    "third_state_popular = pd.concat([third_state_boys, third_state_girls])\n",
    "third_state_popular"
   ]
  },
  {
   "cell_type": "code",
   "execution_count": 13,
   "metadata": {},
   "outputs": [
    {
     "data": {
      "text/plain": [
       "Gender\n",
       "F    AxesSubplot(0.125,0.125;0.775x0.755)\n",
       "M    AxesSubplot(0.125,0.125;0.775x0.755)\n",
       "dtype: object"
      ]
     },
     "execution_count": 13,
     "metadata": {},
     "output_type": "execute_result"
    },
    {
     "data": {
      "image/png": "[encoded data removed]",
      "text/plain": [
       "<Figure size 432x288 with 1 Axes>"
      ]
     },
     "metadata": {
      "needs_background": "light"
     },
     "output_type": "display_data"
    },
    {
     "data": {
      "image/png": "[encoded data removed]",
      "text/plain": [
       "<Figure size 432x288 with 1 Axes>"
      ]
     },
     "metadata": {
      "needs_background": "light"
     },
     "output_type": "display_data"
    }
   ],
   "source": [
    "third_state_popular.groupby('Gender').plot(kind ='bar')"
   ]
  },
  {
   "cell_type": "markdown",
   "metadata": {},
   "source": [
    "# Task 3. Dynamics of three names in those three states starting from 1990 year"
   ]
  },
  {
   "cell_type": "code",
   "execution_count": 16,
   "metadata": {},
   "outputs": [
    {
     "data": {
      "text/plain": [
       "<matplotlib.axes._subplots.AxesSubplot at 0x7f95ab55e490>"
      ]
     },
     "execution_count": 16,
     "metadata": {},
     "output_type": "execute_result"
    },
    {
     "data": {
      "image/png": "[encoded data removed]",
      "text/plain": [
       "<Figure size 432x288 with 1 Axes>"
      ]
     },
     "metadata": {
      "needs_background": "light"
     },
     "output_type": "display_data"
    }
   ],
   "source": [
    "Mary = df[df.Name == 'Mary'][['Year','Count']]\n",
    "Mary.groupby(['Year']).aggregate({'Count' : 'sum'}).plot()"
   ]
  },
  {
   "cell_type": "code",
   "execution_count": 17,
   "metadata": {},
   "outputs": [
    {
     "data": {
      "text/plain": [
       "<matplotlib.axes._subplots.AxesSubplot at 0x7f95ab4d72d0>"
      ]
     },
     "execution_count": 17,
     "metadata": {},
     "output_type": "execute_result"
    },
    {
     "data": {
      "image/png": "[encoded data removed]",
      "text/plain": [
       "<Figure size 432x288 with 1 Axes>"
      ]
     },
     "metadata": {
      "needs_background": "light"
     },
     "output_type": "display_data"
    }
   ],
   "source": [
    "Barbara = df[df.Name == 'Barbara'][['Year','Count']]\n",
    "Barbara.groupby(['Year']).aggregate({'Count' : 'sum'}).plot()"
   ]
  },
  {
   "cell_type": "code",
   "execution_count": 18,
   "metadata": {},
   "outputs": [
    {
     "data": {
      "text/plain": [
       "<matplotlib.axes._subplots.AxesSubplot at 0x7f95ab449350>"
      ]
     },
     "execution_count": 18,
     "metadata": {},
     "output_type": "execute_result"
    },
    {
     "data": {
      "image/png": "[encoded data removed]",
      "text/plain": [
       "<Figure size 432x288 with 1 Axes>"
      ]
     },
     "metadata": {
      "needs_background": "light"
     },
     "output_type": "display_data"
    }
   ],
   "source": [
    "John = df[df.Name == 'John'][['Year','Count']]\n",
    "John.groupby(['Year']).aggregate({'Count' : 'sum'}).plot()"
   ]
  }
 ],
 "metadata": {
  "kernelspec": {
   "display_name": "Python 3",
   "language": "python",
   "name": "python3"
  },
  "language_info": {
   "codemirror_mode": {
    "name": "ipython",
    "version": 3
   },
   "file_extension": ".py",
   "mimetype": "text/x-python",
   "name": "python",
   "nbconvert_exporter": "python",
   "pygments_lexer": "ipython3",
   "version": "3.7.6"
  }
 },
 "nbformat": 4,
 "nbformat_minor": 4
}
